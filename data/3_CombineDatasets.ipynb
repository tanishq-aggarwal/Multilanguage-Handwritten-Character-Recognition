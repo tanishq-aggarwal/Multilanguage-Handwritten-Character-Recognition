{
 "cells": [
  {
   "cell_type": "code",
   "execution_count": 1,
   "id": "5ae6bfd6",
   "metadata": {},
   "outputs": [],
   "source": [
    "import pandas as pd\n",
    "import os\n",
    "from distutils.dir_util import copy_tree"
   ]
  },
  {
   "cell_type": "code",
   "execution_count": 2,
   "id": "d1044e33",
   "metadata": {},
   "outputs": [],
   "source": [
    "if not os.path.exists(\"./all_combined\"):\n",
    "    os.makedirs(\"./all_combined\")"
   ]
  },
  {
   "cell_type": "code",
   "execution_count": 3,
   "id": "945ff907",
   "metadata": {},
   "outputs": [],
   "source": [
    "def combine_csv_files(paths_to_csv, output_csv_path):\n",
    "    # Create a list of open dataframes\n",
    "    dfs = []\n",
    "    # Read all csv files as dataframes one by one\n",
    "    for path in paths_to_csv:\n",
    "        dfs.append(pd.read_csv(path))\n",
    "    # Combine all dataframes into one\n",
    "    combined_df = pd.concat(dfs)\n",
    "    # Sort all rows in ascending order of labels\n",
    "    combined_df.sort_values(\"Label\", ascending=True, inplace=True)\n",
    "    # Save the combined dataframe to the specified path without index column\n",
    "    combined_df.to_csv(output_csv_path, index=False)\n",
    "    print(\"Created combined csv file at {}\".format(output_csv_path))"
   ]
  },
  {
   "cell_type": "code",
   "execution_count": 4,
   "id": "74794341",
   "metadata": {},
   "outputs": [
    {
     "name": "stdout",
     "output_type": "stream",
     "text": [
      "Created combined csv file at ./all_combined/train.csv\n"
     ]
    }
   ],
   "source": [
    "# Combine training data of English and Hindi into a single csv file\n",
    "combine_csv_files([\"./english/train.csv\", \"./hindi/train.csv\"], \"./all_combined/train.csv\")"
   ]
  },
  {
   "cell_type": "code",
   "execution_count": 5,
   "id": "f1d955aa",
   "metadata": {},
   "outputs": [
    {
     "name": "stdout",
     "output_type": "stream",
     "text": [
      "Created combined csv file at ./all_combined/test.csv\n"
     ]
    }
   ],
   "source": [
    "# Combine testing data of English and Hindi into a single csv file\n",
    "combine_csv_files([\"./english/test.csv\", \"./hindi/test.csv\"], \"./all_combined/test.csv\")"
   ]
  },
  {
   "cell_type": "code",
   "execution_count": 6,
   "id": "3db05c31",
   "metadata": {},
   "outputs": [],
   "source": [
    "def combine_image_files(paths_to_image_dirs, output_dir_path):\n",
    "    for path in paths_to_image_dirs:\n",
    "        print(\"Copying contents of {} to {}\".format(path, output_dir_path))\n",
    "        copy_tree(path, output_dir_path)"
   ]
  },
  {
   "cell_type": "code",
   "execution_count": 7,
   "id": "23ff9c7e",
   "metadata": {},
   "outputs": [
    {
     "name": "stdout",
     "output_type": "stream",
     "text": [
      "Copying contents of ./english/train to ./all_combined/train\n",
      "Copying contents of ./hindi/train to ./all_combined/train\n"
     ]
    }
   ],
   "source": [
    "# Copy training images of English and Hindi to a single location\n",
    "combine_image_files([\"./english/train\", \"./hindi/train\"], \"./all_combined/train\")"
   ]
  },
  {
   "cell_type": "code",
   "execution_count": 8,
   "id": "ca9df6a0",
   "metadata": {},
   "outputs": [
    {
     "name": "stdout",
     "output_type": "stream",
     "text": [
      "Copying contents of ./english/test to ./all_combined/test\n",
      "Copying contents of ./hindi/test to ./all_combined/test\n"
     ]
    }
   ],
   "source": [
    "# Copy testing images of English and Hindi to a single location\n",
    "combine_image_files([\"./english/test\", \"./hindi/test\"], \"./all_combined/test\")"
   ]
  }
 ],
 "metadata": {
  "kernelspec": {
   "display_name": "Python 3 (ipykernel)",
   "language": "python",
   "name": "python3"
  },
  "language_info": {
   "codemirror_mode": {
    "name": "ipython",
    "version": 3
   },
   "file_extension": ".py",
   "mimetype": "text/x-python",
   "name": "python",
   "nbconvert_exporter": "python",
   "pygments_lexer": "ipython3",
   "version": "3.7.0"
  }
 },
 "nbformat": 4,
 "nbformat_minor": 5
}
