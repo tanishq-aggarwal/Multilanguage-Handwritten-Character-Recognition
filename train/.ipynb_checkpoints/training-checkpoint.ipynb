{
 "cells": [
  {
   "cell_type": "code",
   "execution_count": 4,
   "metadata": {
    "colab": {
     "base_uri": "https://localhost:8080/",
     "height": 35
    },
    "colab_type": "code",
    "executionInfo": {
     "elapsed": 2566,
     "status": "ok",
     "timestamp": 1545120449766,
     "user": {
      "displayName": "Vatsalya Chaubey",
      "photoUrl": "https://lh5.googleusercontent.com/-LS1VhRp_Z90/AAAAAAAAAAI/AAAAAAAAAlc/9AwAhGw4_SY/s64/photo.jpg",
      "userId": "06866825344162825375"
     },
     "user_tz": -330
    },
    "id": "iDG-GfeC_cdc",
    "outputId": "d7899a7d-d280-451f-8e49-d003cb32889f"
   },
   "outputs": [
    {
     "name": "stderr",
     "output_type": "stream",
     "text": [
      "Using TensorFlow backend.\n"
     ]
    }
   ],
   "source": [
    "import os\n",
    "import json\n",
    "import numpy as np\n",
    "import skimage.io as io\n",
    "import keras\n",
    "import pandas as pd\n",
    "import matplotlib.pyplot as plt\n",
    "from keras.layers import *\n",
    "from keras.utils import *\n",
    "from keras.optimizers import Adam\n",
    "from keras.models import *\n",
    "from sklearn.model_selection import train_test_split\n",
    "from sklearn.utils import shuffle"
   ]
  },
  {
   "cell_type": "code",
   "execution_count": null,
   "metadata": {
    "colab": {
     "base_uri": "https://localhost:8080/",
     "height": 121
    },
    "colab_type": "code",
    "executionInfo": {
     "elapsed": 1318,
     "status": "ok",
     "timestamp": 1545120451871,
     "user": {
      "displayName": "Vatsalya Chaubey",
      "photoUrl": "https://lh5.googleusercontent.com/-LS1VhRp_Z90/AAAAAAAAAAI/AAAAAAAAAlc/9AwAhGw4_SY/s64/photo.jpg",
      "userId": "06866825344162825375"
     },
     "user_tz": -330
    },
    "id": "mHhu1r7YUMLr",
    "outputId": "a6e79de5-4a02-4ad7-b70b-5074d4047010"
   },
   "outputs": [],
   "source": [
    "os.listdir()"
   ]
  },
  {
   "cell_type": "code",
   "execution_count": null,
   "metadata": {
    "colab": {},
    "colab_type": "code",
    "id": "GW-B2b3h_zKo"
   },
   "outputs": [],
   "source": [
    "df_train = pd.read_csv('../data/all_combined/train.csv')\n",
    "df_train"
   ]
  },
  {
   "cell_type": "code",
   "execution_count": null,
   "metadata": {},
   "outputs": [],
   "source": [
    "df_test = pd.read_csv('../data/all_combined/test.csv')\n",
    "df_test"
   ]
  },
  {
   "cell_type": "code",
   "execution_count": null,
   "metadata": {
    "colab": {},
    "colab_type": "code",
    "id": "sOymlsymEJYS"
   },
   "outputs": [],
   "source": [
    "Y_train = df_train[\"Label\"]\n",
    "X_train = df_train.drop(\"Label\", axis=\"columns\")\n",
    "Y_test = df_test[\"Label\"]\n",
    "X_test = df_test.drop(\"Label\", axis=\"columns\")"
   ]
  },
  {
   "cell_type": "code",
   "execution_count": null,
   "metadata": {
    "colab": {
     "base_uri": "https://localhost:8080/",
     "height": 87
    },
    "colab_type": "code",
    "executionInfo": {
     "elapsed": 9980,
     "status": "ok",
     "timestamp": 1545120469154,
     "user": {
      "displayName": "Vatsalya Chaubey",
      "photoUrl": "https://lh5.googleusercontent.com/-LS1VhRp_Z90/AAAAAAAAAAI/AAAAAAAAAlc/9AwAhGw4_SY/s64/photo.jpg",
      "userId": "06866825344162825375"
     },
     "user_tz": -330
    },
    "id": "_yDAuzoQAZ83",
    "outputId": "2beb3952-d788-4770-f5bd-8ec9859fd27e",
    "scrolled": true
   },
   "outputs": [],
   "source": [
    "X_train = X_train.values.reshape(-1,32,32,1)\n",
    "print(X_train.shape)\n",
    "Y_train = Y_train.values.reshape(-1,1)\n",
    "print(Y_train.shape)\n",
    "X_test = X_test.values.reshape(-1,32,32,1)\n",
    "print(X_test.shape)\n",
    "Y_test = Y_test.values.reshape(-1,1)\n",
    "print(Y_test.shape)"
   ]
  },
  {
   "cell_type": "code",
   "execution_count": 5,
   "metadata": {
    "colab": {
     "base_uri": "https://localhost:8080/",
     "height": 55
    },
    "colab_type": "code",
    "executionInfo": {
     "elapsed": 8740,
     "status": "ok",
     "timestamp": 1545120469154,
     "user": {
      "displayName": "Vatsalya Chaubey",
      "photoUrl": "https://lh5.googleusercontent.com/-LS1VhRp_Z90/AAAAAAAAAAI/AAAAAAAAAlc/9AwAhGw4_SY/s64/photo.jpg",
      "userId": "06866825344162825375"
     },
     "user_tz": -330
    },
    "id": "TjwZnMcAGHVE",
    "outputId": "426e456b-42b7-495a-c858-8b70027424c6"
   },
   "outputs": [],
   "source": [
    "# Class to label mappings\n",
    "with open(\"mappings.json\") as f:\n",
    "    json_dict = json.load(f)\n",
    "mappings = {int(k): v for k, v in json_dict.items()}"
   ]
  },
  {
   "cell_type": "code",
   "execution_count": null,
   "metadata": {
    "colab": {},
    "colab_type": "code",
    "id": "bUXIhNwcB5-E"
   },
   "outputs": [],
   "source": [
    "# Scale down 0-255 pixels to 0-1 decimal numbers\n",
    "X_train = X_train/255\n",
    "X_test = X_test/255"
   ]
  },
  {
   "cell_type": "code",
   "execution_count": null,
   "metadata": {
    "colab": {},
    "colab_type": "code",
    "id": "mHg2NjktItxv"
   },
   "outputs": [],
   "source": [
    "# Shuffle dataset\n",
    "X_train, Y_train = shuffle(X_train, Y_train, random_state = 2)\n",
    "X_test, Y_test = shuffle(X_test, Y_test, random_state = 0)"
   ]
  },
  {
   "cell_type": "code",
   "execution_count": null,
   "metadata": {
    "colab": {
     "base_uri": "https://localhost:8080/",
     "height": 365
    },
    "colab_type": "code",
    "executionInfo": {
     "elapsed": 1860,
     "status": "ok",
     "timestamp": 1545116906086,
     "user": {
      "displayName": "Vatsalya Chaubey",
      "photoUrl": "https://lh5.googleusercontent.com/-LS1VhRp_Z90/AAAAAAAAAAI/AAAAAAAAAlc/9AwAhGw4_SY/s64/photo.jpg",
      "userId": "06866825344162825375"
     },
     "user_tz": -330
    },
    "id": "iIV03oqLAfyb",
    "outputId": "d267a64d-160b-437d-a11f-952196d61d07"
   },
   "outputs": [],
   "source": [
    "# Verify\n",
    "plt.imshow(X_test[73].reshape(32, 32))\n",
    "print(mappings[int(Y_test[73])])"
   ]
  },
  {
   "cell_type": "code",
   "execution_count": null,
   "metadata": {
    "colab": {
     "base_uri": "https://localhost:8080/",
     "height": 52
    },
    "colab_type": "code",
    "executionInfo": {
     "elapsed": 1523,
     "status": "ok",
     "timestamp": 1545120479867,
     "user": {
      "displayName": "Vatsalya Chaubey",
      "photoUrl": "https://lh5.googleusercontent.com/-LS1VhRp_Z90/AAAAAAAAAAI/AAAAAAAAAlc/9AwAhGw4_SY/s64/photo.jpg",
      "userId": "06866825344162825375"
     },
     "user_tz": -330
    },
    "id": "UydHfLNlCTp7",
    "outputId": "714b6465-c7e8-4f34-a51e-0cb27fd9ce23"
   },
   "outputs": [],
   "source": [
    "X_test, X_val, Y_test, Y_val = train_test_split(X_test, Y_test, test_size = 0.6, random_state = 1)\n",
    "print(X_test.shape)\n",
    "print(X_val.shape)"
   ]
  },
  {
   "cell_type": "code",
   "execution_count": null,
   "metadata": {
    "colab": {
     "base_uri": "https://localhost:8080/",
     "height": 35
    },
    "colab_type": "code",
    "executionInfo": {
     "elapsed": 910,
     "status": "ok",
     "timestamp": 1545120481605,
     "user": {
      "displayName": "Vatsalya Chaubey",
      "photoUrl": "https://lh5.googleusercontent.com/-LS1VhRp_Z90/AAAAAAAAAAI/AAAAAAAAAlc/9AwAhGw4_SY/s64/photo.jpg",
      "userId": "06866825344162825375"
     },
     "user_tz": -330
    },
    "id": "OQ_R8t2PJ3l3",
    "outputId": "ff0b4a18-a00e-44ad-a050-d40e1b7d2cb8",
    "scrolled": true
   },
   "outputs": [],
   "source": [
    "Y_test = keras.utils.to_categorical(Y_test)\n",
    "print(Y_test.shape)"
   ]
  },
  {
   "cell_type": "code",
   "execution_count": null,
   "metadata": {
    "colab": {
     "base_uri": "https://localhost:8080/",
     "height": 35
    },
    "colab_type": "code",
    "executionInfo": {
     "elapsed": 1822,
     "status": "ok",
     "timestamp": 1545120484196,
     "user": {
      "displayName": "Vatsalya Chaubey",
      "photoUrl": "https://lh5.googleusercontent.com/-LS1VhRp_Z90/AAAAAAAAAAI/AAAAAAAAAlc/9AwAhGw4_SY/s64/photo.jpg",
      "userId": "06866825344162825375"
     },
     "user_tz": -330
    },
    "id": "qqZnvbUlO8iS",
    "outputId": "d6338b7c-a4d6-4118-f16a-62beb08628d0"
   },
   "outputs": [],
   "source": [
    "Y_val = keras.utils.to_categorical(Y_val)\n",
    "print(Y_val.shape)"
   ]
  },
  {
   "cell_type": "code",
   "execution_count": null,
   "metadata": {
    "colab": {
     "base_uri": "https://localhost:8080/",
     "height": 35
    },
    "colab_type": "code",
    "executionInfo": {
     "elapsed": 840,
     "status": "ok",
     "timestamp": 1545120485817,
     "user": {
      "displayName": "Vatsalya Chaubey",
      "photoUrl": "https://lh5.googleusercontent.com/-LS1VhRp_Z90/AAAAAAAAAAI/AAAAAAAAAlc/9AwAhGw4_SY/s64/photo.jpg",
      "userId": "06866825344162825375"
     },
     "user_tz": -330
    },
    "id": "qlHHVlrNSzZA",
    "outputId": "a8d45ff3-e4f7-4519-8d9b-f47fa6f5c942"
   },
   "outputs": [],
   "source": [
    "Y_train = keras.utils.to_categorical(Y_train)\n",
    "print(Y_train.shape)"
   ]
  },
  {
   "cell_type": "code",
   "execution_count": null,
   "metadata": {
    "colab": {
     "base_uri": "https://localhost:8080/",
     "height": 627
    },
    "colab_type": "code",
    "executionInfo": {
     "elapsed": 1762,
     "status": "ok",
     "timestamp": 1545121254541,
     "user": {
      "displayName": "Vatsalya Chaubey",
      "photoUrl": "https://lh5.googleusercontent.com/-LS1VhRp_Z90/AAAAAAAAAAI/AAAAAAAAAlc/9AwAhGw4_SY/s64/photo.jpg",
      "userId": "06866825344162825375"
     },
     "user_tz": -330
    },
    "id": "RONUzHlAHdYl",
    "outputId": "9888813f-b78c-4b59-ae95-e3aa0e19219b"
   },
   "outputs": [],
   "source": [
    "inputs = Input(shape = (32,32,1))\n",
    "conv0 = Conv2D(64, 3, padding = 'same', activation ='relu')(inputs)\n",
    "conv1 = Conv2D(64, 3, padding='same', activation='relu')(conv0)\n",
    "conv2 = Conv2D(128, 3, padding='same', activation='relu')(conv1)\n",
    "pool2 = MaxPooling2D((2,2))(conv2)\n",
    "conv3 = Conv2D(128, 3, padding='same', activation='relu')(pool2)\n",
    "conv4 = Conv2D(256, 5, padding='same', activation='relu')(conv3)\n",
    "pool4 = MaxPooling2D((2,2))(conv4)\n",
    "conv5 = Conv2D(256, 5, padding='same', activation='relu')(pool4)\n",
    "flat = Flatten()(conv5)\n",
    "dense0 = Dense(512, activation='relu')(flat)\n",
    "dense1 = Dense(256, activation='relu')(dense0)\n",
    "dense2 = Dense(73, activation='softmax')(dense1)\n",
    "\n",
    "model = Model(inputs, dense2)\n",
    "print(model.summary())"
   ]
  },
  {
   "cell_type": "code",
   "execution_count": null,
   "metadata": {
    "colab": {
     "base_uri": "https://localhost:8080/",
     "height": 728
    },
    "colab_type": "code",
    "executionInfo": {
     "elapsed": 1180683,
     "status": "ok",
     "timestamp": 1545122438628,
     "user": {
      "displayName": "Vatsalya Chaubey",
      "photoUrl": "https://lh5.googleusercontent.com/-LS1VhRp_Z90/AAAAAAAAAAI/AAAAAAAAAlc/9AwAhGw4_SY/s64/photo.jpg",
      "userId": "06866825344162825375"
     },
     "user_tz": -330
    },
    "id": "6lGJggdnY50F",
    "outputId": "d1420785-1a69-45a9-e716-bd729ad1d26e"
   },
   "outputs": [],
   "source": [
    "model.compile(Adam(lr = 10e-4), loss = 'categorical_crossentropy', metrics = ['accuracy']) #lr = .0001"
   ]
  },
  {
   "cell_type": "code",
   "execution_count": null,
   "metadata": {
    "scrolled": false
   },
   "outputs": [],
   "source": [
    "history = model.fit(X_train, Y_train, epochs = 16, batch_size = 200, validation_data = (X_val, Y_val), verbose = 1)"
   ]
  },
  {
   "cell_type": "code",
   "execution_count": null,
   "metadata": {},
   "outputs": [],
   "source": [
    "model.save('model.h5')"
   ]
  },
  {
   "cell_type": "code",
   "execution_count": null,
   "metadata": {
    "colab": {
     "base_uri": "https://localhost:8080/",
     "height": 347
    },
    "colab_type": "code",
    "executionInfo": {
     "elapsed": 2073,
     "status": "ok",
     "timestamp": 1545127121366,
     "user": {
      "displayName": "Vatsalya Chaubey",
      "photoUrl": "https://lh5.googleusercontent.com/-LS1VhRp_Z90/AAAAAAAAAAI/AAAAAAAAAlc/9AwAhGw4_SY/s64/photo.jpg",
      "userId": "06866825344162825375"
     },
     "user_tz": -330
    },
    "id": "HQZggcgMPgdk",
    "outputId": "4aa0b1a4-6c17-4a5c-e2c1-69430ec3446e"
   },
   "outputs": [],
   "source": [
    "fig, ax = plt.subplots(2,1)\n",
    "ax[0].plot(history.history['loss'], color='b', label=\"Training loss\")\n",
    "ax[0].plot(history.history['val_loss'], color='r', label=\"validation loss\",axes =ax[0])\n",
    "legend = ax[0].legend(loc='best', shadow=True)\n",
    "\n",
    "ax[1].plot(history.history['accuracy'], color='b', label=\"Training accuracy\")\n",
    "ax[1].plot(history.history['val_accuracy'], color='r',label=\"Validation accuracy\")\n",
    "legend = ax[1].legend(loc='best', shadow=True)"
   ]
  },
  {
   "cell_type": "code",
   "execution_count": null,
   "metadata": {
    "colab": {
     "base_uri": "https://localhost:8080/",
     "height": 52
    },
    "colab_type": "code",
    "executionInfo": {
     "elapsed": 3003,
     "status": "ok",
     "timestamp": 1545128647042,
     "user": {
      "displayName": "Vatsalya Chaubey",
      "photoUrl": "https://lh5.googleusercontent.com/-LS1VhRp_Z90/AAAAAAAAAAI/AAAAAAAAAlc/9AwAhGw4_SY/s64/photo.jpg",
      "userId": "06866825344162825375"
     },
     "user_tz": -330
    },
    "id": "DdsebqfJx5af",
    "outputId": "42937191-cb01-423b-a0d9-084038563a4c"
   },
   "outputs": [],
   "source": [
    "model.evaluate(X_test, Y_test, batch_size = 200, verbose =1)"
   ]
  },
  {
   "cell_type": "code",
   "execution_count": null,
   "metadata": {
    "colab": {
     "base_uri": "https://localhost:8080/",
     "height": 35
    },
    "colab_type": "code",
    "executionInfo": {
     "elapsed": 1584,
     "status": "ok",
     "timestamp": 1545128657313,
     "user": {
      "displayName": "Vatsalya Chaubey",
      "photoUrl": "https://lh5.googleusercontent.com/-LS1VhRp_Z90/AAAAAAAAAAI/AAAAAAAAAlc/9AwAhGw4_SY/s64/photo.jpg",
      "userId": "06866825344162825375"
     },
     "user_tz": -330
    },
    "id": "YmprFVwn0ks4",
    "outputId": "ada7be80-a6d6-4cdf-93ad-ae24587d91fd"
   },
   "outputs": [],
   "source": [
    "model.metrics_names"
   ]
  },
  {
   "cell_type": "code",
   "execution_count": null,
   "metadata": {
    "colab": {
     "base_uri": "https://localhost:8080/",
     "height": 35
    },
    "colab_type": "code",
    "executionInfo": {
     "elapsed": 3905,
     "status": "ok",
     "timestamp": 1545129033192,
     "user": {
      "displayName": "Vatsalya Chaubey",
      "photoUrl": "https://lh5.googleusercontent.com/-LS1VhRp_Z90/AAAAAAAAAAI/AAAAAAAAAlc/9AwAhGw4_SY/s64/photo.jpg",
      "userId": "06866825344162825375"
     },
     "user_tz": -330
    },
    "id": "Rqs40EZ92Cui",
    "outputId": "fbe910b9-27c3-4208-d0da-4ba537dfc380"
   },
   "outputs": [],
   "source": [
    "predicted = model.predict(x = X_test, verbose = 1)"
   ]
  },
  {
   "cell_type": "code",
   "execution_count": null,
   "metadata": {},
   "outputs": [],
   "source": [
    "maxpredicted = np.argmax(predicted, axis = 1)"
   ]
  },
  {
   "cell_type": "code",
   "execution_count": null,
   "metadata": {
    "colab": {
     "base_uri": "https://localhost:8080/",
     "height": 365
    },
    "colab_type": "code",
    "executionInfo": {
     "elapsed": 1665,
     "status": "ok",
     "timestamp": 1545129049791,
     "user": {
      "displayName": "Vatsalya Chaubey",
      "photoUrl": "https://lh5.googleusercontent.com/-LS1VhRp_Z90/AAAAAAAAAAI/AAAAAAAAAlc/9AwAhGw4_SY/s64/photo.jpg",
      "userId": "06866825344162825375"
     },
     "user_tz": -330
    },
    "id": "5yn-rxLL1BQD",
    "outputId": "4de7d761-27ed-4873-ace4-d7f0e17e7dbe"
   },
   "outputs": [],
   "source": [
    "index = 100\n",
    "img = X_test[index]\n",
    "img = img.reshape((32,32))\n",
    "plt.imshow(img)\n",
    "print(mappings[maxpredicted[index]])"
   ]
  }
 ],
 "metadata": {
  "accelerator": "GPU",
  "colab": {
   "collapsed_sections": [],
   "name": "Hindi Handwritten Digits.ipynb",
   "provenance": [],
   "version": "0.3.2"
  },
  "kernelspec": {
   "display_name": "Python 3",
   "language": "python",
   "name": "python3"
  }
 },
 "nbformat": 4,
 "nbformat_minor": 1
}
