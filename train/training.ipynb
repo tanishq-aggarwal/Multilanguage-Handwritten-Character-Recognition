{
 "cells": [
  {
   "cell_type": "code",
   "execution_count": 1,
   "metadata": {
    "colab": {
     "base_uri": "https://localhost:8080/",
     "height": 35
    },
    "colab_type": "code",
    "executionInfo": {
     "elapsed": 2566,
     "status": "ok",
     "timestamp": 1545120449766,
     "user": {
      "displayName": "Vatsalya Chaubey",
      "photoUrl": "https://lh5.googleusercontent.com/-LS1VhRp_Z90/AAAAAAAAAAI/AAAAAAAAAlc/9AwAhGw4_SY/s64/photo.jpg",
      "userId": "06866825344162825375"
     },
     "user_tz": -330
    },
    "id": "iDG-GfeC_cdc",
    "outputId": "d7899a7d-d280-451f-8e49-d003cb32889f"
   },
   "outputs": [
    {
     "name": "stderr",
     "output_type": "stream",
     "text": [
      "Using TensorFlow backend.\n"
     ]
    }
   ],
   "source": [
    "import os\n",
    "import json\n",
    "import numpy as np\n",
    "import skimage.io as io\n",
    "import keras\n",
    "import pandas as pd\n",
    "import matplotlib.pyplot as plt\n",
    "from keras.layers import *\n",
    "from keras.utils import *\n",
    "from keras.optimizers import Adam\n",
    "from keras.models import *\n",
    "from sklearn.model_selection import train_test_split\n",
    "from sklearn.utils import shuffle"
   ]
  },
  {
   "cell_type": "code",
   "execution_count": 2,
   "metadata": {
    "colab": {
     "base_uri": "https://localhost:8080/",
     "height": 121
    },
    "colab_type": "code",
    "executionInfo": {
     "elapsed": 1318,
     "status": "ok",
     "timestamp": 1545120451871,
     "user": {
      "displayName": "Vatsalya Chaubey",
      "photoUrl": "https://lh5.googleusercontent.com/-LS1VhRp_Z90/AAAAAAAAAAI/AAAAAAAAAlc/9AwAhGw4_SY/s64/photo.jpg",
      "userId": "06866825344162825375"
     },
     "user_tz": -330
    },
    "id": "mHhu1r7YUMLr",
    "outputId": "a6e79de5-4a02-4ad7-b70b-5074d4047010"
   },
   "outputs": [
    {
     "data": {
      "text/plain": [
       "['.ipynb_checkpoints', 'mappings.json', 'training.ipynb']"
      ]
     },
     "execution_count": 2,
     "metadata": {},
     "output_type": "execute_result"
    }
   ],
   "source": [
    "os.listdir()"
   ]
  },
  {
   "cell_type": "code",
   "execution_count": 3,
   "metadata": {
    "colab": {},
    "colab_type": "code",
    "id": "GW-B2b3h_zKo"
   },
   "outputs": [
    {
     "data": {
      "text/html": [
       "<div>\n",
       "<style scoped>\n",
       "    .dataframe tbody tr th:only-of-type {\n",
       "        vertical-align: middle;\n",
       "    }\n",
       "\n",
       "    .dataframe tbody tr th {\n",
       "        vertical-align: top;\n",
       "    }\n",
       "\n",
       "    .dataframe thead th {\n",
       "        text-align: right;\n",
       "    }\n",
       "</style>\n",
       "<table border=\"1\" class=\"dataframe\">\n",
       "  <thead>\n",
       "    <tr style=\"text-align: right;\">\n",
       "      <th></th>\n",
       "      <th>Label</th>\n",
       "      <th>0</th>\n",
       "      <th>1</th>\n",
       "      <th>2</th>\n",
       "      <th>3</th>\n",
       "      <th>4</th>\n",
       "      <th>5</th>\n",
       "      <th>6</th>\n",
       "      <th>7</th>\n",
       "      <th>8</th>\n",
       "      <th>...</th>\n",
       "      <th>1014</th>\n",
       "      <th>1015</th>\n",
       "      <th>1016</th>\n",
       "      <th>1017</th>\n",
       "      <th>1018</th>\n",
       "      <th>1019</th>\n",
       "      <th>1020</th>\n",
       "      <th>1021</th>\n",
       "      <th>1022</th>\n",
       "      <th>1023</th>\n",
       "    </tr>\n",
       "  </thead>\n",
       "  <tbody>\n",
       "    <tr>\n",
       "      <th>0</th>\n",
       "      <td>1</td>\n",
       "      <td>0</td>\n",
       "      <td>0</td>\n",
       "      <td>0</td>\n",
       "      <td>0</td>\n",
       "      <td>0</td>\n",
       "      <td>0</td>\n",
       "      <td>0</td>\n",
       "      <td>0</td>\n",
       "      <td>0</td>\n",
       "      <td>...</td>\n",
       "      <td>0</td>\n",
       "      <td>0</td>\n",
       "      <td>0</td>\n",
       "      <td>0</td>\n",
       "      <td>0</td>\n",
       "      <td>0</td>\n",
       "      <td>0</td>\n",
       "      <td>0</td>\n",
       "      <td>0</td>\n",
       "      <td>0</td>\n",
       "    </tr>\n",
       "    <tr>\n",
       "      <th>1</th>\n",
       "      <td>1</td>\n",
       "      <td>0</td>\n",
       "      <td>0</td>\n",
       "      <td>0</td>\n",
       "      <td>0</td>\n",
       "      <td>0</td>\n",
       "      <td>0</td>\n",
       "      <td>0</td>\n",
       "      <td>0</td>\n",
       "      <td>0</td>\n",
       "      <td>...</td>\n",
       "      <td>0</td>\n",
       "      <td>0</td>\n",
       "      <td>0</td>\n",
       "      <td>0</td>\n",
       "      <td>0</td>\n",
       "      <td>0</td>\n",
       "      <td>0</td>\n",
       "      <td>0</td>\n",
       "      <td>0</td>\n",
       "      <td>0</td>\n",
       "    </tr>\n",
       "    <tr>\n",
       "      <th>2</th>\n",
       "      <td>1</td>\n",
       "      <td>0</td>\n",
       "      <td>0</td>\n",
       "      <td>0</td>\n",
       "      <td>0</td>\n",
       "      <td>0</td>\n",
       "      <td>0</td>\n",
       "      <td>0</td>\n",
       "      <td>0</td>\n",
       "      <td>0</td>\n",
       "      <td>...</td>\n",
       "      <td>0</td>\n",
       "      <td>0</td>\n",
       "      <td>0</td>\n",
       "      <td>0</td>\n",
       "      <td>0</td>\n",
       "      <td>0</td>\n",
       "      <td>0</td>\n",
       "      <td>0</td>\n",
       "      <td>0</td>\n",
       "      <td>0</td>\n",
       "    </tr>\n",
       "    <tr>\n",
       "      <th>3</th>\n",
       "      <td>1</td>\n",
       "      <td>0</td>\n",
       "      <td>0</td>\n",
       "      <td>0</td>\n",
       "      <td>0</td>\n",
       "      <td>0</td>\n",
       "      <td>0</td>\n",
       "      <td>0</td>\n",
       "      <td>0</td>\n",
       "      <td>0</td>\n",
       "      <td>...</td>\n",
       "      <td>0</td>\n",
       "      <td>0</td>\n",
       "      <td>0</td>\n",
       "      <td>0</td>\n",
       "      <td>0</td>\n",
       "      <td>0</td>\n",
       "      <td>0</td>\n",
       "      <td>0</td>\n",
       "      <td>0</td>\n",
       "      <td>0</td>\n",
       "    </tr>\n",
       "    <tr>\n",
       "      <th>4</th>\n",
       "      <td>1</td>\n",
       "      <td>0</td>\n",
       "      <td>0</td>\n",
       "      <td>0</td>\n",
       "      <td>0</td>\n",
       "      <td>0</td>\n",
       "      <td>0</td>\n",
       "      <td>0</td>\n",
       "      <td>0</td>\n",
       "      <td>0</td>\n",
       "      <td>...</td>\n",
       "      <td>0</td>\n",
       "      <td>0</td>\n",
       "      <td>0</td>\n",
       "      <td>0</td>\n",
       "      <td>0</td>\n",
       "      <td>0</td>\n",
       "      <td>0</td>\n",
       "      <td>0</td>\n",
       "      <td>0</td>\n",
       "      <td>0</td>\n",
       "    </tr>\n",
       "    <tr>\n",
       "      <th>...</th>\n",
       "      <td>...</td>\n",
       "      <td>...</td>\n",
       "      <td>...</td>\n",
       "      <td>...</td>\n",
       "      <td>...</td>\n",
       "      <td>...</td>\n",
       "      <td>...</td>\n",
       "      <td>...</td>\n",
       "      <td>...</td>\n",
       "      <td>...</td>\n",
       "      <td>...</td>\n",
       "      <td>...</td>\n",
       "      <td>...</td>\n",
       "      <td>...</td>\n",
       "      <td>...</td>\n",
       "      <td>...</td>\n",
       "      <td>...</td>\n",
       "      <td>...</td>\n",
       "      <td>...</td>\n",
       "      <td>...</td>\n",
       "      <td>...</td>\n",
       "    </tr>\n",
       "    <tr>\n",
       "      <th>202995</th>\n",
       "      <td>72</td>\n",
       "      <td>0</td>\n",
       "      <td>0</td>\n",
       "      <td>0</td>\n",
       "      <td>0</td>\n",
       "      <td>0</td>\n",
       "      <td>0</td>\n",
       "      <td>0</td>\n",
       "      <td>0</td>\n",
       "      <td>0</td>\n",
       "      <td>...</td>\n",
       "      <td>0</td>\n",
       "      <td>0</td>\n",
       "      <td>0</td>\n",
       "      <td>0</td>\n",
       "      <td>0</td>\n",
       "      <td>0</td>\n",
       "      <td>0</td>\n",
       "      <td>0</td>\n",
       "      <td>0</td>\n",
       "      <td>0</td>\n",
       "    </tr>\n",
       "    <tr>\n",
       "      <th>202996</th>\n",
       "      <td>72</td>\n",
       "      <td>0</td>\n",
       "      <td>0</td>\n",
       "      <td>0</td>\n",
       "      <td>0</td>\n",
       "      <td>0</td>\n",
       "      <td>0</td>\n",
       "      <td>0</td>\n",
       "      <td>0</td>\n",
       "      <td>0</td>\n",
       "      <td>...</td>\n",
       "      <td>0</td>\n",
       "      <td>0</td>\n",
       "      <td>0</td>\n",
       "      <td>0</td>\n",
       "      <td>0</td>\n",
       "      <td>0</td>\n",
       "      <td>0</td>\n",
       "      <td>0</td>\n",
       "      <td>0</td>\n",
       "      <td>0</td>\n",
       "    </tr>\n",
       "    <tr>\n",
       "      <th>202997</th>\n",
       "      <td>72</td>\n",
       "      <td>0</td>\n",
       "      <td>0</td>\n",
       "      <td>0</td>\n",
       "      <td>0</td>\n",
       "      <td>0</td>\n",
       "      <td>0</td>\n",
       "      <td>0</td>\n",
       "      <td>0</td>\n",
       "      <td>0</td>\n",
       "      <td>...</td>\n",
       "      <td>0</td>\n",
       "      <td>0</td>\n",
       "      <td>0</td>\n",
       "      <td>0</td>\n",
       "      <td>0</td>\n",
       "      <td>0</td>\n",
       "      <td>0</td>\n",
       "      <td>0</td>\n",
       "      <td>0</td>\n",
       "      <td>0</td>\n",
       "    </tr>\n",
       "    <tr>\n",
       "      <th>202998</th>\n",
       "      <td>72</td>\n",
       "      <td>0</td>\n",
       "      <td>0</td>\n",
       "      <td>0</td>\n",
       "      <td>0</td>\n",
       "      <td>0</td>\n",
       "      <td>0</td>\n",
       "      <td>0</td>\n",
       "      <td>0</td>\n",
       "      <td>0</td>\n",
       "      <td>...</td>\n",
       "      <td>0</td>\n",
       "      <td>0</td>\n",
       "      <td>0</td>\n",
       "      <td>0</td>\n",
       "      <td>0</td>\n",
       "      <td>0</td>\n",
       "      <td>0</td>\n",
       "      <td>0</td>\n",
       "      <td>0</td>\n",
       "      <td>0</td>\n",
       "    </tr>\n",
       "    <tr>\n",
       "      <th>202999</th>\n",
       "      <td>72</td>\n",
       "      <td>0</td>\n",
       "      <td>0</td>\n",
       "      <td>0</td>\n",
       "      <td>0</td>\n",
       "      <td>0</td>\n",
       "      <td>0</td>\n",
       "      <td>0</td>\n",
       "      <td>0</td>\n",
       "      <td>0</td>\n",
       "      <td>...</td>\n",
       "      <td>0</td>\n",
       "      <td>0</td>\n",
       "      <td>0</td>\n",
       "      <td>0</td>\n",
       "      <td>0</td>\n",
       "      <td>0</td>\n",
       "      <td>0</td>\n",
       "      <td>0</td>\n",
       "      <td>0</td>\n",
       "      <td>0</td>\n",
       "    </tr>\n",
       "  </tbody>\n",
       "</table>\n",
       "<p>203000 rows × 1025 columns</p>\n",
       "</div>"
      ],
      "text/plain": [
       "        Label  0  1  2  3  4  5  6  7  8  ...  1014  1015  1016  1017  1018  \\\n",
       "0           1  0  0  0  0  0  0  0  0  0  ...     0     0     0     0     0   \n",
       "1           1  0  0  0  0  0  0  0  0  0  ...     0     0     0     0     0   \n",
       "2           1  0  0  0  0  0  0  0  0  0  ...     0     0     0     0     0   \n",
       "3           1  0  0  0  0  0  0  0  0  0  ...     0     0     0     0     0   \n",
       "4           1  0  0  0  0  0  0  0  0  0  ...     0     0     0     0     0   \n",
       "...       ... .. .. .. .. .. .. .. .. ..  ...   ...   ...   ...   ...   ...   \n",
       "202995     72  0  0  0  0  0  0  0  0  0  ...     0     0     0     0     0   \n",
       "202996     72  0  0  0  0  0  0  0  0  0  ...     0     0     0     0     0   \n",
       "202997     72  0  0  0  0  0  0  0  0  0  ...     0     0     0     0     0   \n",
       "202998     72  0  0  0  0  0  0  0  0  0  ...     0     0     0     0     0   \n",
       "202999     72  0  0  0  0  0  0  0  0  0  ...     0     0     0     0     0   \n",
       "\n",
       "        1019  1020  1021  1022  1023  \n",
       "0          0     0     0     0     0  \n",
       "1          0     0     0     0     0  \n",
       "2          0     0     0     0     0  \n",
       "3          0     0     0     0     0  \n",
       "4          0     0     0     0     0  \n",
       "...      ...   ...   ...   ...   ...  \n",
       "202995     0     0     0     0     0  \n",
       "202996     0     0     0     0     0  \n",
       "202997     0     0     0     0     0  \n",
       "202998     0     0     0     0     0  \n",
       "202999     0     0     0     0     0  \n",
       "\n",
       "[203000 rows x 1025 columns]"
      ]
     },
     "execution_count": 3,
     "metadata": {},
     "output_type": "execute_result"
    }
   ],
   "source": [
    "df_train = pd.read_csv('../data/all_combined/train.csv')\n",
    "df_train"
   ]
  },
  {
   "cell_type": "code",
   "execution_count": 4,
   "metadata": {},
   "outputs": [
    {
     "data": {
      "text/html": [
       "<div>\n",
       "<style scoped>\n",
       "    .dataframe tbody tr th:only-of-type {\n",
       "        vertical-align: middle;\n",
       "    }\n",
       "\n",
       "    .dataframe tbody tr th {\n",
       "        vertical-align: top;\n",
       "    }\n",
       "\n",
       "    .dataframe thead th {\n",
       "        text-align: right;\n",
       "    }\n",
       "</style>\n",
       "<table border=\"1\" class=\"dataframe\">\n",
       "  <thead>\n",
       "    <tr style=\"text-align: right;\">\n",
       "      <th></th>\n",
       "      <th>Label</th>\n",
       "      <th>0</th>\n",
       "      <th>1</th>\n",
       "      <th>2</th>\n",
       "      <th>3</th>\n",
       "      <th>4</th>\n",
       "      <th>5</th>\n",
       "      <th>6</th>\n",
       "      <th>7</th>\n",
       "      <th>8</th>\n",
       "      <th>...</th>\n",
       "      <th>1014</th>\n",
       "      <th>1015</th>\n",
       "      <th>1016</th>\n",
       "      <th>1017</th>\n",
       "      <th>1018</th>\n",
       "      <th>1019</th>\n",
       "      <th>1020</th>\n",
       "      <th>1021</th>\n",
       "      <th>1022</th>\n",
       "      <th>1023</th>\n",
       "    </tr>\n",
       "  </thead>\n",
       "  <tbody>\n",
       "    <tr>\n",
       "      <th>0</th>\n",
       "      <td>1</td>\n",
       "      <td>0</td>\n",
       "      <td>0</td>\n",
       "      <td>0</td>\n",
       "      <td>0</td>\n",
       "      <td>0</td>\n",
       "      <td>0</td>\n",
       "      <td>0</td>\n",
       "      <td>0</td>\n",
       "      <td>0</td>\n",
       "      <td>...</td>\n",
       "      <td>0</td>\n",
       "      <td>0</td>\n",
       "      <td>0</td>\n",
       "      <td>0</td>\n",
       "      <td>0</td>\n",
       "      <td>0</td>\n",
       "      <td>0</td>\n",
       "      <td>0</td>\n",
       "      <td>0</td>\n",
       "      <td>0</td>\n",
       "    </tr>\n",
       "    <tr>\n",
       "      <th>1</th>\n",
       "      <td>1</td>\n",
       "      <td>0</td>\n",
       "      <td>0</td>\n",
       "      <td>0</td>\n",
       "      <td>0</td>\n",
       "      <td>0</td>\n",
       "      <td>0</td>\n",
       "      <td>0</td>\n",
       "      <td>0</td>\n",
       "      <td>0</td>\n",
       "      <td>...</td>\n",
       "      <td>0</td>\n",
       "      <td>0</td>\n",
       "      <td>0</td>\n",
       "      <td>0</td>\n",
       "      <td>0</td>\n",
       "      <td>0</td>\n",
       "      <td>0</td>\n",
       "      <td>0</td>\n",
       "      <td>0</td>\n",
       "      <td>0</td>\n",
       "    </tr>\n",
       "    <tr>\n",
       "      <th>2</th>\n",
       "      <td>1</td>\n",
       "      <td>0</td>\n",
       "      <td>0</td>\n",
       "      <td>0</td>\n",
       "      <td>0</td>\n",
       "      <td>0</td>\n",
       "      <td>0</td>\n",
       "      <td>0</td>\n",
       "      <td>0</td>\n",
       "      <td>0</td>\n",
       "      <td>...</td>\n",
       "      <td>0</td>\n",
       "      <td>0</td>\n",
       "      <td>0</td>\n",
       "      <td>0</td>\n",
       "      <td>0</td>\n",
       "      <td>0</td>\n",
       "      <td>0</td>\n",
       "      <td>0</td>\n",
       "      <td>0</td>\n",
       "      <td>0</td>\n",
       "    </tr>\n",
       "    <tr>\n",
       "      <th>3</th>\n",
       "      <td>1</td>\n",
       "      <td>0</td>\n",
       "      <td>0</td>\n",
       "      <td>0</td>\n",
       "      <td>0</td>\n",
       "      <td>0</td>\n",
       "      <td>0</td>\n",
       "      <td>0</td>\n",
       "      <td>0</td>\n",
       "      <td>0</td>\n",
       "      <td>...</td>\n",
       "      <td>0</td>\n",
       "      <td>0</td>\n",
       "      <td>0</td>\n",
       "      <td>0</td>\n",
       "      <td>0</td>\n",
       "      <td>0</td>\n",
       "      <td>0</td>\n",
       "      <td>0</td>\n",
       "      <td>0</td>\n",
       "      <td>0</td>\n",
       "    </tr>\n",
       "    <tr>\n",
       "      <th>4</th>\n",
       "      <td>1</td>\n",
       "      <td>0</td>\n",
       "      <td>0</td>\n",
       "      <td>0</td>\n",
       "      <td>0</td>\n",
       "      <td>0</td>\n",
       "      <td>0</td>\n",
       "      <td>0</td>\n",
       "      <td>0</td>\n",
       "      <td>0</td>\n",
       "      <td>...</td>\n",
       "      <td>0</td>\n",
       "      <td>0</td>\n",
       "      <td>0</td>\n",
       "      <td>0</td>\n",
       "      <td>0</td>\n",
       "      <td>0</td>\n",
       "      <td>0</td>\n",
       "      <td>0</td>\n",
       "      <td>0</td>\n",
       "      <td>0</td>\n",
       "    </tr>\n",
       "    <tr>\n",
       "      <th>...</th>\n",
       "      <td>...</td>\n",
       "      <td>...</td>\n",
       "      <td>...</td>\n",
       "      <td>...</td>\n",
       "      <td>...</td>\n",
       "      <td>...</td>\n",
       "      <td>...</td>\n",
       "      <td>...</td>\n",
       "      <td>...</td>\n",
       "      <td>...</td>\n",
       "      <td>...</td>\n",
       "      <td>...</td>\n",
       "      <td>...</td>\n",
       "      <td>...</td>\n",
       "      <td>...</td>\n",
       "      <td>...</td>\n",
       "      <td>...</td>\n",
       "      <td>...</td>\n",
       "      <td>...</td>\n",
       "      <td>...</td>\n",
       "      <td>...</td>\n",
       "    </tr>\n",
       "    <tr>\n",
       "      <th>34595</th>\n",
       "      <td>72</td>\n",
       "      <td>0</td>\n",
       "      <td>0</td>\n",
       "      <td>0</td>\n",
       "      <td>0</td>\n",
       "      <td>0</td>\n",
       "      <td>0</td>\n",
       "      <td>0</td>\n",
       "      <td>0</td>\n",
       "      <td>0</td>\n",
       "      <td>...</td>\n",
       "      <td>0</td>\n",
       "      <td>0</td>\n",
       "      <td>0</td>\n",
       "      <td>0</td>\n",
       "      <td>0</td>\n",
       "      <td>0</td>\n",
       "      <td>0</td>\n",
       "      <td>0</td>\n",
       "      <td>0</td>\n",
       "      <td>0</td>\n",
       "    </tr>\n",
       "    <tr>\n",
       "      <th>34596</th>\n",
       "      <td>72</td>\n",
       "      <td>0</td>\n",
       "      <td>0</td>\n",
       "      <td>0</td>\n",
       "      <td>0</td>\n",
       "      <td>0</td>\n",
       "      <td>0</td>\n",
       "      <td>0</td>\n",
       "      <td>0</td>\n",
       "      <td>0</td>\n",
       "      <td>...</td>\n",
       "      <td>0</td>\n",
       "      <td>0</td>\n",
       "      <td>0</td>\n",
       "      <td>0</td>\n",
       "      <td>0</td>\n",
       "      <td>0</td>\n",
       "      <td>0</td>\n",
       "      <td>0</td>\n",
       "      <td>0</td>\n",
       "      <td>0</td>\n",
       "    </tr>\n",
       "    <tr>\n",
       "      <th>34597</th>\n",
       "      <td>72</td>\n",
       "      <td>0</td>\n",
       "      <td>0</td>\n",
       "      <td>0</td>\n",
       "      <td>0</td>\n",
       "      <td>0</td>\n",
       "      <td>0</td>\n",
       "      <td>0</td>\n",
       "      <td>0</td>\n",
       "      <td>0</td>\n",
       "      <td>...</td>\n",
       "      <td>0</td>\n",
       "      <td>0</td>\n",
       "      <td>0</td>\n",
       "      <td>0</td>\n",
       "      <td>0</td>\n",
       "      <td>0</td>\n",
       "      <td>0</td>\n",
       "      <td>0</td>\n",
       "      <td>0</td>\n",
       "      <td>0</td>\n",
       "    </tr>\n",
       "    <tr>\n",
       "      <th>34598</th>\n",
       "      <td>72</td>\n",
       "      <td>0</td>\n",
       "      <td>0</td>\n",
       "      <td>0</td>\n",
       "      <td>0</td>\n",
       "      <td>0</td>\n",
       "      <td>0</td>\n",
       "      <td>0</td>\n",
       "      <td>0</td>\n",
       "      <td>0</td>\n",
       "      <td>...</td>\n",
       "      <td>0</td>\n",
       "      <td>0</td>\n",
       "      <td>0</td>\n",
       "      <td>0</td>\n",
       "      <td>0</td>\n",
       "      <td>0</td>\n",
       "      <td>0</td>\n",
       "      <td>0</td>\n",
       "      <td>0</td>\n",
       "      <td>0</td>\n",
       "    </tr>\n",
       "    <tr>\n",
       "      <th>34599</th>\n",
       "      <td>72</td>\n",
       "      <td>0</td>\n",
       "      <td>0</td>\n",
       "      <td>0</td>\n",
       "      <td>0</td>\n",
       "      <td>0</td>\n",
       "      <td>0</td>\n",
       "      <td>0</td>\n",
       "      <td>0</td>\n",
       "      <td>0</td>\n",
       "      <td>...</td>\n",
       "      <td>0</td>\n",
       "      <td>0</td>\n",
       "      <td>0</td>\n",
       "      <td>0</td>\n",
       "      <td>0</td>\n",
       "      <td>0</td>\n",
       "      <td>0</td>\n",
       "      <td>0</td>\n",
       "      <td>0</td>\n",
       "      <td>0</td>\n",
       "    </tr>\n",
       "  </tbody>\n",
       "</table>\n",
       "<p>34600 rows × 1025 columns</p>\n",
       "</div>"
      ],
      "text/plain": [
       "       Label  0  1  2  3  4  5  6  7  8  ...  1014  1015  1016  1017  1018  \\\n",
       "0          1  0  0  0  0  0  0  0  0  0  ...     0     0     0     0     0   \n",
       "1          1  0  0  0  0  0  0  0  0  0  ...     0     0     0     0     0   \n",
       "2          1  0  0  0  0  0  0  0  0  0  ...     0     0     0     0     0   \n",
       "3          1  0  0  0  0  0  0  0  0  0  ...     0     0     0     0     0   \n",
       "4          1  0  0  0  0  0  0  0  0  0  ...     0     0     0     0     0   \n",
       "...      ... .. .. .. .. .. .. .. .. ..  ...   ...   ...   ...   ...   ...   \n",
       "34595     72  0  0  0  0  0  0  0  0  0  ...     0     0     0     0     0   \n",
       "34596     72  0  0  0  0  0  0  0  0  0  ...     0     0     0     0     0   \n",
       "34597     72  0  0  0  0  0  0  0  0  0  ...     0     0     0     0     0   \n",
       "34598     72  0  0  0  0  0  0  0  0  0  ...     0     0     0     0     0   \n",
       "34599     72  0  0  0  0  0  0  0  0  0  ...     0     0     0     0     0   \n",
       "\n",
       "       1019  1020  1021  1022  1023  \n",
       "0         0     0     0     0     0  \n",
       "1         0     0     0     0     0  \n",
       "2         0     0     0     0     0  \n",
       "3         0     0     0     0     0  \n",
       "4         0     0     0     0     0  \n",
       "...     ...   ...   ...   ...   ...  \n",
       "34595     0     0     0     0     0  \n",
       "34596     0     0     0     0     0  \n",
       "34597     0     0     0     0     0  \n",
       "34598     0     0     0     0     0  \n",
       "34599     0     0     0     0     0  \n",
       "\n",
       "[34600 rows x 1025 columns]"
      ]
     },
     "execution_count": 4,
     "metadata": {},
     "output_type": "execute_result"
    }
   ],
   "source": [
    "df_test = pd.read_csv('../data/all_combined/test.csv')\n",
    "df_test"
   ]
  },
  {
   "cell_type": "code",
   "execution_count": 5,
   "metadata": {
    "colab": {},
    "colab_type": "code",
    "id": "sOymlsymEJYS"
   },
   "outputs": [],
   "source": [
    "Y_train = df_train[\"Label\"]\n",
    "X_train = df_train.drop(\"Label\", axis=\"columns\")\n",
    "Y_test = df_test[\"Label\"]\n",
    "X_test = df_test.drop(\"Label\", axis=\"columns\")"
   ]
  },
  {
   "cell_type": "code",
   "execution_count": 6,
   "metadata": {
    "colab": {
     "base_uri": "https://localhost:8080/",
     "height": 87
    },
    "colab_type": "code",
    "executionInfo": {
     "elapsed": 9980,
     "status": "ok",
     "timestamp": 1545120469154,
     "user": {
      "displayName": "Vatsalya Chaubey",
      "photoUrl": "https://lh5.googleusercontent.com/-LS1VhRp_Z90/AAAAAAAAAAI/AAAAAAAAAlc/9AwAhGw4_SY/s64/photo.jpg",
      "userId": "06866825344162825375"
     },
     "user_tz": -330
    },
    "id": "_yDAuzoQAZ83",
    "outputId": "2beb3952-d788-4770-f5bd-8ec9859fd27e",
    "scrolled": true
   },
   "outputs": [
    {
     "name": "stdout",
     "output_type": "stream",
     "text": [
      "(203000, 32, 32, 1)\n",
      "(203000, 1)\n",
      "(34600, 32, 32, 1)\n",
      "(34600, 1)\n"
     ]
    }
   ],
   "source": [
    "X_train = X_train.values.reshape(-1,32,32,1)\n",
    "print(X_train.shape)\n",
    "Y_train = Y_train.values.reshape(-1,1)\n",
    "print(Y_train.shape)\n",
    "X_test = X_test.values.reshape(-1,32,32,1)\n",
    "print(X_test.shape)\n",
    "Y_test = Y_test.values.reshape(-1,1)\n",
    "print(Y_test.shape)"
   ]
  },
  {
   "cell_type": "code",
   "execution_count": 7,
   "metadata": {
    "colab": {
     "base_uri": "https://localhost:8080/",
     "height": 55
    },
    "colab_type": "code",
    "executionInfo": {
     "elapsed": 8740,
     "status": "ok",
     "timestamp": 1545120469154,
     "user": {
      "displayName": "Vatsalya Chaubey",
      "photoUrl": "https://lh5.googleusercontent.com/-LS1VhRp_Z90/AAAAAAAAAAI/AAAAAAAAAlc/9AwAhGw4_SY/s64/photo.jpg",
      "userId": "06866825344162825375"
     },
     "user_tz": -330
    },
    "id": "TjwZnMcAGHVE",
    "outputId": "426e456b-42b7-495a-c858-8b70027424c6"
   },
   "outputs": [],
   "source": [
    "# Class to label mappings\n",
    "with open(\"mappings.json\") as f:\n",
    "    json_dict = json.load(f)\n",
    "mappings = {int(k): v for k, v in json_dict.items()}"
   ]
  },
  {
   "cell_type": "code",
   "execution_count": 8,
   "metadata": {
    "colab": {},
    "colab_type": "code",
    "id": "bUXIhNwcB5-E"
   },
   "outputs": [],
   "source": [
    "# Scale down 0-255 pixels to 0-1 decimal numbers\n",
    "X_train = X_train/255\n",
    "X_test = X_test/255"
   ]
  },
  {
   "cell_type": "code",
   "execution_count": 9,
   "metadata": {
    "colab": {},
    "colab_type": "code",
    "id": "mHg2NjktItxv"
   },
   "outputs": [],
   "source": [
    "# Shuffle dataset\n",
    "X_train, Y_train = shuffle(X_train, Y_train, random_state = 2)\n",
    "X_test, Y_test = shuffle(X_test, Y_test, random_state = 0)"
   ]
  },
  {
   "cell_type": "code",
   "execution_count": 10,
   "metadata": {
    "colab": {
     "base_uri": "https://localhost:8080/",
     "height": 365
    },
    "colab_type": "code",
    "executionInfo": {
     "elapsed": 1860,
     "status": "ok",
     "timestamp": 1545116906086,
     "user": {
      "displayName": "Vatsalya Chaubey",
      "photoUrl": "https://lh5.googleusercontent.com/-LS1VhRp_Z90/AAAAAAAAAAI/AAAAAAAAAlc/9AwAhGw4_SY/s64/photo.jpg",
      "userId": "06866825344162825375"
     },
     "user_tz": -330
    },
    "id": "iIV03oqLAfyb",
    "outputId": "d267a64d-160b-437d-a11f-952196d61d07"
   },
   "outputs": [
    {
     "name": "stdout",
     "output_type": "stream",
     "text": [
      "Hindi character व (va)\n"
     ]
    },
    {
     "data": {
      "image/png": "[encoded data removed]",
      "text/plain": [
       "<Figure size 432x288 with 1 Axes>"
      ]
     },
     "metadata": {
      "needs_background": "light"
     },
     "output_type": "display_data"
    }
   ],
   "source": [
    "# Verify\n",
    "plt.imshow(X_test[73].reshape(32, 32))\n",
    "print(mappings[int(Y_test[73])])"
   ]
  },
  {
   "cell_type": "code",
   "execution_count": 11,
   "metadata": {
    "colab": {
     "base_uri": "https://localhost:8080/",
     "height": 52
    },
    "colab_type": "code",
    "executionInfo": {
     "elapsed": 1523,
     "status": "ok",
     "timestamp": 1545120479867,
     "user": {
      "displayName": "Vatsalya Chaubey",
      "photoUrl": "https://lh5.googleusercontent.com/-LS1VhRp_Z90/AAAAAAAAAAI/AAAAAAAAAlc/9AwAhGw4_SY/s64/photo.jpg",
      "userId": "06866825344162825375"
     },
     "user_tz": -330
    },
    "id": "UydHfLNlCTp7",
    "outputId": "714b6465-c7e8-4f34-a51e-0cb27fd9ce23"
   },
   "outputs": [
    {
     "name": "stdout",
     "output_type": "stream",
     "text": [
      "(13840, 32, 32, 1)\n",
      "(20760, 32, 32, 1)\n"
     ]
    }
   ],
   "source": [
    "X_test, X_val, Y_test, Y_val = train_test_split(X_test, Y_test, test_size = 0.6, random_state = 1)\n",
    "print(X_test.shape)\n",
    "print(X_val.shape)"
   ]
  },
  {
   "cell_type": "code",
   "execution_count": 12,
   "metadata": {
    "colab": {
     "base_uri": "https://localhost:8080/",
     "height": 35
    },
    "colab_type": "code",
    "executionInfo": {
     "elapsed": 910,
     "status": "ok",
     "timestamp": 1545120481605,
     "user": {
      "displayName": "Vatsalya Chaubey",
      "photoUrl": "https://lh5.googleusercontent.com/-LS1VhRp_Z90/AAAAAAAAAAI/AAAAAAAAAlc/9AwAhGw4_SY/s64/photo.jpg",
      "userId": "06866825344162825375"
     },
     "user_tz": -330
    },
    "id": "OQ_R8t2PJ3l3",
    "outputId": "ff0b4a18-a00e-44ad-a050-d40e1b7d2cb8",
    "scrolled": true
   },
   "outputs": [
    {
     "name": "stdout",
     "output_type": "stream",
     "text": [
      "(13840, 73)\n"
     ]
    }
   ],
   "source": [
    "Y_test = keras.utils.to_categorical(Y_test)\n",
    "print(Y_test.shape)"
   ]
  },
  {
   "cell_type": "code",
   "execution_count": 13,
   "metadata": {
    "colab": {
     "base_uri": "https://localhost:8080/",
     "height": 35
    },
    "colab_type": "code",
    "executionInfo": {
     "elapsed": 1822,
     "status": "ok",
     "timestamp": 1545120484196,
     "user": {
      "displayName": "Vatsalya Chaubey",
      "photoUrl": "https://lh5.googleusercontent.com/-LS1VhRp_Z90/AAAAAAAAAAI/AAAAAAAAAlc/9AwAhGw4_SY/s64/photo.jpg",
      "userId": "06866825344162825375"
     },
     "user_tz": -330
    },
    "id": "qqZnvbUlO8iS",
    "outputId": "d6338b7c-a4d6-4118-f16a-62beb08628d0"
   },
   "outputs": [
    {
     "name": "stdout",
     "output_type": "stream",
     "text": [
      "(20760, 73)\n"
     ]
    }
   ],
   "source": [
    "Y_val = keras.utils.to_categorical(Y_val)\n",
    "print(Y_val.shape)"
   ]
  },
  {
   "cell_type": "code",
   "execution_count": 14,
   "metadata": {
    "colab": {
     "base_uri": "https://localhost:8080/",
     "height": 35
    },
    "colab_type": "code",
    "executionInfo": {
     "elapsed": 840,
     "status": "ok",
     "timestamp": 1545120485817,
     "user": {
      "displayName": "Vatsalya Chaubey",
      "photoUrl": "https://lh5.googleusercontent.com/-LS1VhRp_Z90/AAAAAAAAAAI/AAAAAAAAAlc/9AwAhGw4_SY/s64/photo.jpg",
      "userId": "06866825344162825375"
     },
     "user_tz": -330
    },
    "id": "qlHHVlrNSzZA",
    "outputId": "a8d45ff3-e4f7-4519-8d9b-f47fa6f5c942"
   },
   "outputs": [
    {
     "name": "stdout",
     "output_type": "stream",
     "text": [
      "(203000, 73)\n"
     ]
    }
   ],
   "source": [
    "Y_train = keras.utils.to_categorical(Y_train)\n",
    "print(Y_train.shape)"
   ]
  },
  {
   "cell_type": "code",
   "execution_count": 15,
   "metadata": {
    "colab": {
     "base_uri": "https://localhost:8080/",
     "height": 627
    },
    "colab_type": "code",
    "executionInfo": {
     "elapsed": 1762,
     "status": "ok",
     "timestamp": 1545121254541,
     "user": {
      "displayName": "Vatsalya Chaubey",
      "photoUrl": "https://lh5.googleusercontent.com/-LS1VhRp_Z90/AAAAAAAAAAI/AAAAAAAAAlc/9AwAhGw4_SY/s64/photo.jpg",
      "userId": "06866825344162825375"
     },
     "user_tz": -330
    },
    "id": "RONUzHlAHdYl",
    "outputId": "9888813f-b78c-4b59-ae95-e3aa0e19219b"
   },
   "outputs": [
    {
     "name": "stdout",
     "output_type": "stream",
     "text": [
      "WARNING:tensorflow:From C:\\Users\\abhay\\Anaconda3\\lib\\site-packages\\tensorflow\\python\\ops\\resource_variable_ops.py:435: colocate_with (from tensorflow.python.framework.ops) is deprecated and will be removed in a future version.\n",
      "Instructions for updating:\n",
      "Colocations handled automatically by placer.\n",
      "Model: \"model_1\"\n",
      "_________________________________________________________________\n",
      "Layer (type)                 Output Shape              Param #   \n",
      "=================================================================\n",
      "input_1 (InputLayer)         (None, 32, 32, 1)         0         \n",
      "_________________________________________________________________\n",
      "conv2d_1 (Conv2D)            (None, 32, 32, 64)        640       \n",
      "_________________________________________________________________\n",
      "conv2d_2 (Conv2D)            (None, 32, 32, 64)        36928     \n",
      "_________________________________________________________________\n",
      "conv2d_3 (Conv2D)            (None, 32, 32, 128)       73856     \n",
      "_________________________________________________________________\n",
      "max_pooling2d_1 (MaxPooling2 (None, 16, 16, 128)       0         \n",
      "_________________________________________________________________\n",
      "conv2d_4 (Conv2D)            (None, 16, 16, 128)       147584    \n",
      "_________________________________________________________________\n",
      "conv2d_5 (Conv2D)            (None, 16, 16, 256)       819456    \n",
      "_________________________________________________________________\n",
      "max_pooling2d_2 (MaxPooling2 (None, 8, 8, 256)         0         \n",
      "_________________________________________________________________\n",
      "conv2d_6 (Conv2D)            (None, 8, 8, 256)         1638656   \n",
      "_________________________________________________________________\n",
      "flatten_1 (Flatten)          (None, 16384)             0         \n",
      "_________________________________________________________________\n",
      "dense_1 (Dense)              (None, 512)               8389120   \n",
      "_________________________________________________________________\n",
      "dense_2 (Dense)              (None, 256)               131328    \n",
      "_________________________________________________________________\n",
      "dense_3 (Dense)              (None, 73)                18761     \n",
      "=================================================================\n",
      "Total params: 11,256,329\n",
      "Trainable params: 11,256,329\n",
      "Non-trainable params: 0\n",
      "_________________________________________________________________\n",
      "None\n"
     ]
    }
   ],
   "source": [
    "inputs = Input(shape = (32,32,1))\n",
    "conv0 = Conv2D(64, 3, padding = 'same', activation ='relu')(inputs)\n",
    "conv1 = Conv2D(64, 3, padding='same', activation='relu')(conv0)\n",
    "conv2 = Conv2D(128, 3, padding='same', activation='relu')(conv1)\n",
    "pool2 = MaxPooling2D((2,2))(conv2)\n",
    "conv3 = Conv2D(128, 3, padding='same', activation='relu')(pool2)\n",
    "conv4 = Conv2D(256, 5, padding='same', activation='relu')(conv3)\n",
    "pool4 = MaxPooling2D((2,2))(conv4)\n",
    "conv5 = Conv2D(256, 5, padding='same', activation='relu')(pool4)\n",
    "flat = Flatten()(conv5)\n",
    "dense0 = Dense(512, activation='relu')(flat)\n",
    "dense1 = Dense(256, activation='relu')(dense0)\n",
    "dense2 = Dense(73, activation='softmax')(dense1)\n",
    "\n",
    "model = Model(inputs, dense2)\n",
    "print(model.summary())"
   ]
  },
  {
   "cell_type": "code",
   "execution_count": 16,
   "metadata": {
    "colab": {
     "base_uri": "https://localhost:8080/",
     "height": 728
    },
    "colab_type": "code",
    "executionInfo": {
     "elapsed": 1180683,
     "status": "ok",
     "timestamp": 1545122438628,
     "user": {
      "displayName": "Vatsalya Chaubey",
      "photoUrl": "https://lh5.googleusercontent.com/-LS1VhRp_Z90/AAAAAAAAAAI/AAAAAAAAAlc/9AwAhGw4_SY/s64/photo.jpg",
      "userId": "06866825344162825375"
     },
     "user_tz": -330
    },
    "id": "6lGJggdnY50F",
    "outputId": "d1420785-1a69-45a9-e716-bd729ad1d26e"
   },
   "outputs": [],
   "source": [
    "model.compile(Adam(lr = 10e-4), loss = 'categorical_crossentropy', metrics = ['accuracy']) #lr = .0001"
   ]
  },
  {
   "cell_type": "code",
   "execution_count": 17,
   "metadata": {
    "scrolled": false
   },
   "outputs": [
    {
     "name": "stdout",
     "output_type": "stream",
     "text": [
      "WARNING:tensorflow:From C:\\Users\\abhay\\Anaconda3\\lib\\site-packages\\tensorflow\\python\\ops\\math_ops.py:3066: to_int32 (from tensorflow.python.ops.math_ops) is deprecated and will be removed in a future version.\n",
      "Instructions for updating:\n",
      "Use tf.cast instead.\n",
      "Train on 203000 samples, validate on 20760 samples\n",
      "Epoch 1/16\n",
      "203000/203000 [==============================] - 221s 1ms/step - loss: 0.6315 - accuracy: 0.8208 - val_loss: 0.1637 - val_accuracy: 0.9478\n",
      "Epoch 2/16\n",
      "203000/203000 [==============================] - 201s 988us/step - loss: 0.1338 - accuracy: 0.9551 - val_loss: 0.1467 - val_accuracy: 0.9518\n",
      "Epoch 3/16\n",
      "203000/203000 [==============================] - 199s 983us/step - loss: 0.1031 - accuracy: 0.9640 - val_loss: 0.1248 - val_accuracy: 0.9584\n",
      "Epoch 4/16\n",
      "203000/203000 [==============================] - 200s 984us/step - loss: 0.0872 - accuracy: 0.9688 - val_loss: 0.1312 - val_accuracy: 0.9585\n",
      "Epoch 5/16\n",
      "203000/203000 [==============================] - 200s 983us/step - loss: 0.0775 - accuracy: 0.9714 - val_loss: 0.1524 - val_accuracy: 0.9557\n",
      "Epoch 6/16\n",
      "203000/203000 [==============================] - 200s 983us/step - loss: 0.0697 - accuracy: 0.9737 - val_loss: 0.1308 - val_accuracy: 0.9577\n",
      "Epoch 7/16\n",
      "203000/203000 [==============================] - 201s 989us/step - loss: 0.0624 - accuracy: 0.9759 - val_loss: 0.1363 - val_accuracy: 0.9584\n",
      "Epoch 8/16\n",
      "203000/203000 [==============================] - 201s 992us/step - loss: 0.0566 - accuracy: 0.9780 - val_loss: 0.1437 - val_accuracy: 0.9604\n",
      "Epoch 9/16\n",
      "203000/203000 [==============================] - 201s 989us/step - loss: 0.0525 - accuracy: 0.9793 - val_loss: 0.1382 - val_accuracy: 0.9607\n",
      "Epoch 10/16\n",
      "203000/203000 [==============================] - 201s 990us/step - loss: 0.0479 - accuracy: 0.9807 - val_loss: 0.1524 - val_accuracy: 0.9583\n",
      "Epoch 11/16\n",
      "203000/203000 [==============================] - 199s 981us/step - loss: 0.0467 - accuracy: 0.9812 - val_loss: 0.1561 - val_accuracy: 0.9573\n",
      "Epoch 12/16\n",
      "203000/203000 [==============================] - 202s 995us/step - loss: 0.0425 - accuracy: 0.9831 - val_loss: 0.1502 - val_accuracy: 0.9609\n",
      "Epoch 13/16\n",
      "203000/203000 [==============================] - 202s 993us/step - loss: 0.0397 - accuracy: 0.9839 - val_loss: 0.1717 - val_accuracy: 0.9592\n",
      "Epoch 14/16\n",
      "203000/203000 [==============================] - 202s 996us/step - loss: 0.0387 - accuracy: 0.9844 - val_loss: 0.1663 - val_accuracy: 0.9607\n",
      "Epoch 15/16\n",
      "203000/203000 [==============================] - 203s 999us/step - loss: 0.0369 - accuracy: 0.9851 - val_loss: 0.1719 - val_accuracy: 0.9603\n",
      "Epoch 16/16\n",
      "203000/203000 [==============================] - 202s 996us/step - loss: 0.0332 - accuracy: 0.9868 - val_loss: 0.1774 - val_accuracy: 0.9584.0332 - accura\n"
     ]
    }
   ],
   "source": [
    "history = model.fit(X_train, Y_train, epochs = 16, batch_size = 200, validation_data = (X_val, Y_val), verbose = 1)"
   ]
  },
  {
   "cell_type": "code",
   "execution_count": 18,
   "metadata": {},
   "outputs": [],
   "source": [
    "model.save('model.h5')"
   ]
  },
  {
   "cell_type": "code",
   "execution_count": 19,
   "metadata": {
    "colab": {
     "base_uri": "https://localhost:8080/",
     "height": 347
    },
    "colab_type": "code",
    "executionInfo": {
     "elapsed": 2073,
     "status": "ok",
     "timestamp": 1545127121366,
     "user": {
      "displayName": "Vatsalya Chaubey",
      "photoUrl": "https://lh5.googleusercontent.com/-LS1VhRp_Z90/AAAAAAAAAAI/AAAAAAAAAlc/9AwAhGw4_SY/s64/photo.jpg",
      "userId": "06866825344162825375"
     },
     "user_tz": -330
    },
    "id": "HQZggcgMPgdk",
    "outputId": "4aa0b1a4-6c17-4a5c-e2c1-69430ec3446e"
   },
   "outputs": [
    {
     "data": {
      "image/png": "[encoded data removed]",
      "text/plain": [
       "<Figure size 432x288 with 2 Axes>"
      ]
     },
     "metadata": {
      "needs_background": "light"
     },
     "output_type": "display_data"
    }
   ],
   "source": [
    "fig, ax = plt.subplots(2,1)\n",
    "ax[0].plot(history.history['loss'], color='b', label=\"Training loss\")\n",
    "ax[0].plot(history.history['val_loss'], color='r', label=\"validation loss\",axes =ax[0])\n",
    "legend = ax[0].legend(loc='best', shadow=True)\n",
    "\n",
    "ax[1].plot(history.history['accuracy'], color='b', label=\"Training accuracy\")\n",
    "ax[1].plot(history.history['val_accuracy'], color='r',label=\"Validation accuracy\")\n",
    "legend = ax[1].legend(loc='best', shadow=True)"
   ]
  },
  {
   "cell_type": "code",
   "execution_count": 20,
   "metadata": {
    "colab": {
     "base_uri": "https://localhost:8080/",
     "height": 52
    },
    "colab_type": "code",
    "executionInfo": {
     "elapsed": 3003,
     "status": "ok",
     "timestamp": 1545128647042,
     "user": {
      "displayName": "Vatsalya Chaubey",
      "photoUrl": "https://lh5.googleusercontent.com/-LS1VhRp_Z90/AAAAAAAAAAI/AAAAAAAAAlc/9AwAhGw4_SY/s64/photo.jpg",
      "userId": "06866825344162825375"
     },
     "user_tz": -330
    },
    "id": "DdsebqfJx5af",
    "outputId": "42937191-cb01-423b-a0d9-084038563a4c"
   },
   "outputs": [
    {
     "name": "stdout",
     "output_type": "stream",
     "text": [
      "13840/13840 [==============================] - 5s 362us/step\n"
     ]
    },
    {
     "data": {
      "text/plain": [
       "[0.16028798949727088, 0.9597543478012085]"
      ]
     },
     "execution_count": 20,
     "metadata": {},
     "output_type": "execute_result"
    }
   ],
   "source": [
    "model.evaluate(X_test, Y_test, batch_size = 200, verbose =1)"
   ]
  },
  {
   "cell_type": "code",
   "execution_count": 21,
   "metadata": {
    "colab": {
     "base_uri": "https://localhost:8080/",
     "height": 35
    },
    "colab_type": "code",
    "executionInfo": {
     "elapsed": 1584,
     "status": "ok",
     "timestamp": 1545128657313,
     "user": {
      "displayName": "Vatsalya Chaubey",
      "photoUrl": "https://lh5.googleusercontent.com/-LS1VhRp_Z90/AAAAAAAAAAI/AAAAAAAAAlc/9AwAhGw4_SY/s64/photo.jpg",
      "userId": "06866825344162825375"
     },
     "user_tz": -330
    },
    "id": "YmprFVwn0ks4",
    "outputId": "ada7be80-a6d6-4cdf-93ad-ae24587d91fd"
   },
   "outputs": [
    {
     "data": {
      "text/plain": [
       "['loss', 'accuracy']"
      ]
     },
     "execution_count": 21,
     "metadata": {},
     "output_type": "execute_result"
    }
   ],
   "source": [
    "model.metrics_names"
   ]
  },
  {
   "cell_type": "code",
   "execution_count": 22,
   "metadata": {
    "colab": {
     "base_uri": "https://localhost:8080/",
     "height": 35
    },
    "colab_type": "code",
    "executionInfo": {
     "elapsed": 3905,
     "status": "ok",
     "timestamp": 1545129033192,
     "user": {
      "displayName": "Vatsalya Chaubey",
      "photoUrl": "https://lh5.googleusercontent.com/-LS1VhRp_Z90/AAAAAAAAAAI/AAAAAAAAAlc/9AwAhGw4_SY/s64/photo.jpg",
      "userId": "06866825344162825375"
     },
     "user_tz": -330
    },
    "id": "Rqs40EZ92Cui",
    "outputId": "fbe910b9-27c3-4208-d0da-4ba537dfc380"
   },
   "outputs": [
    {
     "name": "stdout",
     "output_type": "stream",
     "text": [
      "13840/13840 [==============================] - 6s 420us/step\n"
     ]
    }
   ],
   "source": [
    "predicted = model.predict(x = X_test, verbose = 1)"
   ]
  },
  {
   "cell_type": "code",
   "execution_count": 23,
   "metadata": {},
   "outputs": [],
   "source": [
    "maxpredicted = np.argmax(predicted, axis = 1)"
   ]
  },
  {
   "cell_type": "code",
   "execution_count": 24,
   "metadata": {
    "colab": {
     "base_uri": "https://localhost:8080/",
     "height": 365
    },
    "colab_type": "code",
    "executionInfo": {
     "elapsed": 1665,
     "status": "ok",
     "timestamp": 1545129049791,
     "user": {
      "displayName": "Vatsalya Chaubey",
      "photoUrl": "https://lh5.googleusercontent.com/-LS1VhRp_Z90/AAAAAAAAAAI/AAAAAAAAAlc/9AwAhGw4_SY/s64/photo.jpg",
      "userId": "06866825344162825375"
     },
     "user_tz": -330
    },
    "id": "5yn-rxLL1BQD",
    "outputId": "4de7d761-27ed-4873-ace4-d7f0e17e7dbe"
   },
   "outputs": [
    {
     "name": "stdout",
     "output_type": "stream",
     "text": [
      "English character n/N\n"
     ]
    },
    {
     "data": {
      "image/png": "[encoded data removed]",
      "text/plain": [
       "<Figure size 432x288 with 1 Axes>"
      ]
     },
     "metadata": {
      "needs_background": "light"
     },
     "output_type": "display_data"
    }
   ],
   "source": [
    "index = 100\n",
    "img = X_test[index]\n",
    "img = img.reshape((32,32))\n",
    "plt.imshow(img)\n",
    "print(mappings[maxpredicted[index]])"
   ]
  }
 ],
 "metadata": {
  "accelerator": "GPU",
  "colab": {
   "collapsed_sections": [],
   "name": "Hindi Handwritten Digits.ipynb",
   "provenance": [],
   "version": "0.3.2"
  },
  "kernelspec": {
   "display_name": "Python 3",
   "language": "python",
   "name": "python3"
  },
  "language_info": {
   "codemirror_mode": {
    "name": "ipython",
    "version": 3
   },
   "file_extension": ".py",
   "mimetype": "text/x-python",
   "name": "python",
   "nbconvert_exporter": "python",
   "pygments_lexer": "ipython3",
   "version": "3.7.0"
  }
 },
 "nbformat": 4,
 "nbformat_minor": 1
}
